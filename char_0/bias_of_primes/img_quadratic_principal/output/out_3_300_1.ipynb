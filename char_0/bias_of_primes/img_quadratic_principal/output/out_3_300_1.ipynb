{
 "cells": [
  {
   "cell_type": "markdown",
   "metadata": {
    "tags": [
     "papermill-error-cell-tag"
    ]
   },
   "source": [
    "<span style=\"color:red; font-family:Helvetica Neue, Helvetica, Arial, sans-serif; font-size:2em;\">An Exception was encountered at '<a href=\"#papermill-error-cell\">In [3]</a>'.</span>"
   ]
  },
  {
   "cell_type": "code",
   "execution_count": 1,
   "metadata": {
    "execution": {
     "iopub.execute_input": "2022-05-27T08:28:57.551430Z",
     "iopub.status.busy": "2022-05-27T08:28:57.550081Z",
     "iopub.status.idle": "2022-05-27T08:28:57.561193Z",
     "shell.execute_reply": "2022-05-27T08:28:57.560304Z"
    },
    "papermill": {
     "duration": 0.019531,
     "end_time": "2022-05-27T08:28:57.563451",
     "exception": false,
     "start_time": "2022-05-27T08:28:57.543920",
     "status": "completed"
    },
    "tags": [
     "parameters"
    ]
   },
   "outputs": [],
   "source": [
    "d = 30\n",
    "D = 120\n",
    "r = 3\n",
    "m_1 = 0\n",
    "X =10^10\n",
    "PARA = 100"
   ]
  },
  {
   "cell_type": "code",
   "execution_count": 1,
   "metadata": {
    "execution": {
     "iopub.execute_input": "2022-05-27T08:28:57.576901Z",
     "iopub.status.busy": "2022-05-27T08:28:57.575719Z",
     "iopub.status.idle": "2022-05-27T08:28:57.586372Z",
     "shell.execute_reply": "2022-05-27T08:28:57.585523Z"
    },
    "papermill": {
     "duration": 0.02215,
     "end_time": "2022-05-27T08:28:57.590984",
     "exception": false,
     "start_time": "2022-05-27T08:28:57.568834",
     "status": "completed"
    },
    "tags": [
     "injected-parameters"
    ]
   },
   "outputs": [],
   "source": [
    "# Parameters\n",
    "d = 3\n",
    "D = 12\n",
    "r = 2\n",
    "m_1 = 0\n",
    "h = 2\n",
    "X = 300\n",
    "PARA = 1\n"
   ]
  },
  {
   "cell_type": "markdown",
   "metadata": {
    "tags": [
     "papermill-error-cell-tag"
    ]
   },
   "source": [
    "<span id=\"papermill-error-cell\" style=\"color:red; font-family:Helvetica Neue, Helvetica, Arial, sans-serif; font-size:2em;\">Execution using papermill encountered an exception here and stopped:</span>"
   ]
  },
  {
   "cell_type": "code",
   "execution_count": 2,
   "metadata": {
    "execution": {
     "iopub.execute_input": "2022-05-27T08:28:57.600309Z",
     "iopub.status.busy": "2022-05-27T08:28:57.598983Z",
     "iopub.status.idle": "2022-05-27T08:28:57.751398Z",
     "shell.execute_reply": "2022-05-27T08:28:57.750436Z"
    },
    "papermill": {
     "duration": 0.160774,
     "end_time": "2022-05-27T08:28:57.755947",
     "exception": true,
     "start_time": "2022-05-27T08:28:57.595173",
     "status": "failed"
    },
    "tags": []
   },
   "outputs": [],
   "source": [
    "PRIME_TABLE_SIZE = 10^8\n",
    "# int_X = sage_eval(X)\n",
    "int_X = X\n",
    "K.<a> = NumberField(x^2 - d)\n",
    "co_loglog = float((2^(r-1) - 1)/2 + m_1)\n",
    "H = K.class_number()\n",
    "h = K.narrow_class_group().order()\n",
    "narrow = 0\n",
    "if (H != h):\n",
    "    narrow = 1"
   ]
  },
  {
   "cell_type": "code",
   "execution_count": 3,
   "metadata": {
    "papermill": {
     "duration": null,
     "end_time": null,
     "exception": null,
     "start_time": null,
     "status": "pending"
    },
    "tags": []
   },
   "outputs": [],
   "source": [
    "import struct\n",
    "import urllib.request\n",
    "import ssl\n",
    "ssl._create_default_https_context = ssl._create_unverified_context"
   ]
  },
  {
   "cell_type": "code",
   "execution_count": 4,
   "metadata": {
    "papermill": {
     "duration": null,
     "end_time": null,
     "exception": null,
     "start_time": null,
     "status": "pending"
    },
    "tags": []
   },
   "outputs": [],
   "source": [
    "@parallel(PARA)\n",
    "def plot_points_create(prime_table_segment):\n",
    "    \n",
    "    plot_points = []\n",
    "    \n",
    "    prime_table_name = 'prime_' + str(prime_table_segment)\n",
    "    prime_table_target_url = \"https://s3ds.mdx.jp/prime_tables/\" + prime_table_name\n",
    "    prime_table_obj = urllib.request.urlopen(prime_table_target_url)\n",
    "    prime_binary = prime_table_obj.read()  \n",
    "    table_size = len(prime_binary)/8\n",
    "    \n",
    "    prime_tmp = 0\n",
    "    \n",
    "    for i in range(0,table_size):\n",
    "        prime = int.from_bytes(prime_binary[8*i:8*i+8], byteorder='big')  \n",
    "\n",
    "        if prime_table_segment == 0:\n",
    "             if (prime - prime_tmp)  > (10^(len(str(prime)) - 2)) :\n",
    "                plot_points.append(prime)\n",
    "                prime_tmp = prime\n",
    "        else:\n",
    "            if (prime - prime_tmp)  > (10^(len(str(prime)) - 3)) :\n",
    "                plot_points.append(prime)\n",
    "                prime_tmp = prime\n",
    "                \n",
    "        if i == (table_size -1):\n",
    "            plot_points.append(prime)\n",
    "    \n",
    "    return plot_points"
   ]
  },
  {
   "cell_type": "code",
   "execution_count": 6,
   "metadata": {
    "papermill": {
     "duration": null,
     "end_time": null,
     "exception": null,
     "start_time": null,
     "status": "pending"
    },
    "tags": []
   },
   "outputs": [],
   "source": [
    "plot_points = plot_points_create(0)\n",
    "plot_points.sort()"
   ]
  },
  {
   "cell_type": "code",
   "execution_count": 10,
   "metadata": {
    "papermill": {
     "duration": null,
     "end_time": null,
     "exception": null,
     "start_time": null,
     "status": "pending"
    },
    "tags": []
   },
   "outputs": [],
   "source": [
    "@parallel(PARA)\n",
    "def list_create(prime_table_segment):\n",
    "    \n",
    "    global plot__points, narrow\n",
    "    \n",
    "    points = plot_points[prime_table_segment][1]\n",
    "    \n",
    "    plot_list = []\n",
    "\n",
    "    weighted_sum = 0.0\n",
    "    weighted_sum_spl = 0.0\n",
    "    weighted_sum_pri = 0.0\n",
    "    weighted_sum_r_p = 0.0\n",
    "    weighted_sum_ramified = 0.0\n",
    "\n",
    "    \n",
    "    n = 0\n",
    "    \n",
    "    prime_table_name = 'prime_' + str(prime_table_segment)\n",
    "    prime_table_target_url = \"https://s3ds.mdx.jp/prime_tables/\" + prime_table_name\n",
    "    prime_table_obj = urllib.request.urlopen(prime_table_target_url)\n",
    "    prime_binary = prime_table_obj.read()  \n",
    "    table_size = len(prime_binary)/8\n",
    "    \n",
    "\n",
    "\n",
    "    for i in range(0,table_size):\n",
    "        prime = int.from_bytes(prime_binary[8*i:8*i+8], byteorder='big')    \n",
    "        \n",
    "        I = K.ideal(prime)\n",
    "        F = I.factor()\n",
    "        len_F = len(F)\n",
    "        ramified = F[0][1]\n",
    "        norm = F[0][0].absolute_norm()\n",
    "        \n",
    "        weighted_sum = weighted_sum + ramified*float(len_F*(1/sqrt(norm)))\n",
    "\n",
    "        if (len_F > 1) & (ramified ==1) :\n",
    "            weighted_sum_spl = weighted_sum_spl + float(len_F*(1/sqrt(norm)))\n",
    "            if F[0][0].is_principal():\n",
    "                if narrow == 0:\n",
    "                    weighted_sum_pri = weighted_sum_pri + ramified*float(len_F*(1/sqrt(norm)))\n",
    "                else:\n",
    "                    conj_list = F[0][0].gens_reduced()[0].galois_conjugates(K)\n",
    "                    if (conj_list[0]*conj_list[1] > 0):\n",
    "                        weighted_sum_pri = weighted_sum_pri + ramified*float(len_F*(1/sqrt(norm)))\n",
    "            if norm >= points[n]:\n",
    "                plot_list.append([norm, weighted_sum, weighted_sum_spl, weighted_sum_pri, weighted_sum_r_p,weighted_sum_ramified ])\n",
    "                n = n + 1\n",
    "        if (len_F == 1) & (ramified > 1) :\n",
    "            weighted_sum_ramified = weighted_sum_ramified + ramified*float(len_F*(1/sqrt(norm)))\n",
    "        if (len_F == 1) & (ramified ==1) & (prime <= int_X):\n",
    "            weighted_sum_r_p = weighted_sum_r_p + float(len_F*(1/sqrt(norm)))\n",
    "    if norm <= int_X:\n",
    "        plot_list.append([norm, weighted_sum, weighted_sum_spl, weighted_sum_pri, weighted_sum_r_p,weighted_sum_ramified])\n",
    "    prime_table_obj.close()\n",
    "    return(plot_list)"
   ]
  },
  {
   "cell_type": "code",
   "execution_count": 11,
   "metadata": {
    "papermill": {
     "duration": null,
     "end_time": null,
     "exception": null,
     "start_time": null,
     "status": "pending"
    },
    "tags": []
   },
   "outputs": [
    {
     "ename": "TypeError",
     "evalue": "'int' object is not subscriptable",
     "output_type": "error",
     "traceback": [
      "\u001b[0;31m---------------------------------------------------------------------------\u001b[0m",
      "\u001b[0;31mTypeError\u001b[0m                                 Traceback (most recent call last)",
      "\u001b[0;32m<ipython-input-11-717d7fc1115a>\u001b[0m in \u001b[0;36m<module>\u001b[0;34m\u001b[0m\n\u001b[0;32m----> 1\u001b[0;31m \u001b[0mplot_list\u001b[0m \u001b[0;34m=\u001b[0m \u001b[0mlist_create\u001b[0m\u001b[0;34m(\u001b[0m\u001b[0mInteger\u001b[0m\u001b[0;34m(\u001b[0m\u001b[0;36m0\u001b[0m\u001b[0;34m)\u001b[0m\u001b[0;34m)\u001b[0m\u001b[0;34m\u001b[0m\u001b[0;34m\u001b[0m\u001b[0m\n\u001b[0m\u001b[1;32m      2\u001b[0m \u001b[0mplot_list\u001b[0m\u001b[0;34m.\u001b[0m\u001b[0msort\u001b[0m\u001b[0;34m(\u001b[0m\u001b[0;34m)\u001b[0m\u001b[0;34m\u001b[0m\u001b[0;34m\u001b[0m\u001b[0m\n",
      "\u001b[0;32m~/sage/local/lib/python3.9/site-packages/sage/parallel/decorate.py\u001b[0m in \u001b[0;36m__call__\u001b[0;34m(self, *args, **kwds)\u001b[0m\n\u001b[1;32m    166\u001b[0m for a in args[0]))\n\u001b[1;32m    167\u001b[0m         \u001b[0;32melse\u001b[0m\u001b[0;34m:\u001b[0m\u001b[0;34m\u001b[0m\u001b[0;34m\u001b[0m\u001b[0m\n\u001b[0;32m--> 168\u001b[0;31m             \u001b[0;32mreturn\u001b[0m \u001b[0mself\u001b[0m\u001b[0;34m.\u001b[0m\u001b[0mfunc\u001b[0m\u001b[0;34m(\u001b[0m\u001b[0;34m*\u001b[0m\u001b[0margs\u001b[0m\u001b[0;34m,\u001b[0m \u001b[0;34m**\u001b[0m\u001b[0mkwds\u001b[0m\u001b[0;34m)\u001b[0m\u001b[0;34m\u001b[0m\u001b[0;34m\u001b[0m\u001b[0m\n\u001b[0m\u001b[1;32m    169\u001b[0m \u001b[0;34m\u001b[0m\u001b[0m\n\u001b[1;32m    170\u001b[0m     \u001b[0;32mdef\u001b[0m \u001b[0m__get__\u001b[0m\u001b[0;34m(\u001b[0m\u001b[0mself\u001b[0m\u001b[0;34m,\u001b[0m \u001b[0minstance\u001b[0m\u001b[0;34m,\u001b[0m \u001b[0mowner\u001b[0m\u001b[0;34m)\u001b[0m\u001b[0;34m:\u001b[0m\u001b[0;34m\u001b[0m\u001b[0;34m\u001b[0m\u001b[0m\n",
      "\u001b[0;32m<ipython-input-10-d0e02967b860>\u001b[0m in \u001b[0;36mlist_create\u001b[0;34m(prime_table_segment)\u001b[0m\n\u001b[1;32m      4\u001b[0m     \u001b[0;32mglobal\u001b[0m \u001b[0mplot__points\u001b[0m\u001b[0;34m,\u001b[0m \u001b[0mnarrow\u001b[0m\u001b[0;34m\u001b[0m\u001b[0;34m\u001b[0m\u001b[0m\n\u001b[1;32m      5\u001b[0m \u001b[0;34m\u001b[0m\u001b[0m\n\u001b[0;32m----> 6\u001b[0;31m     \u001b[0mpoints\u001b[0m \u001b[0;34m=\u001b[0m \u001b[0mplot_points\u001b[0m\u001b[0;34m[\u001b[0m\u001b[0mprime_table_segment\u001b[0m\u001b[0;34m]\u001b[0m\u001b[0;34m[\u001b[0m\u001b[0mInteger\u001b[0m\u001b[0;34m(\u001b[0m\u001b[0;36m1\u001b[0m\u001b[0;34m)\u001b[0m\u001b[0;34m]\u001b[0m\u001b[0;34m\u001b[0m\u001b[0;34m\u001b[0m\u001b[0m\n\u001b[0m\u001b[1;32m      7\u001b[0m \u001b[0;34m\u001b[0m\u001b[0m\n\u001b[1;32m      8\u001b[0m     \u001b[0mplot_list\u001b[0m \u001b[0;34m=\u001b[0m \u001b[0;34m[\u001b[0m\u001b[0;34m]\u001b[0m\u001b[0;34m\u001b[0m\u001b[0;34m\u001b[0m\u001b[0m\n",
      "\u001b[0;31mTypeError\u001b[0m: 'int' object is not subscriptable"
     ]
    }
   ],
   "source": [
    "plot_list = list_create(0)\n",
    "plot_list.sort()"
   ]
  },
  {
   "cell_type": "code",
   "execution_count": null,
   "metadata": {
    "papermill": {
     "duration": null,
     "end_time": null,
     "exception": null,
     "start_time": null,
     "status": "pending"
    },
    "tags": []
   },
   "outputs": [],
   "source": [
    "offset= [0.0,0.0,0.0,0.0,0.0, 0.0]\n",
    "for l in range(0,int_X/PRIME_TABLE_SIZE):\n",
    "    for m in range(0, len(plot_list[l][1])):\n",
    "        for n in [1 ,2, 3, 4, 5]:\n",
    "            plot_list[l][1][m][n] = plot_list[l][1][m][n] + offset[n]\n",
    "    for n in [1 ,2, 3, 4, 5]:\n",
    "        offset[n] = plot_list[l][1][m][n]"
   ]
  },
  {
   "cell_type": "code",
   "execution_count": null,
   "metadata": {
    "papermill": {
     "duration": null,
     "end_time": null,
     "exception": null,
     "start_time": null,
     "status": "pending"
    },
    "tags": []
   },
   "outputs": [],
   "source": [
    "\"\"\"\n",
    "bias against pricipal ideal (img_quadratic_principal)\n",
    "\"\"\"\n",
    "import matplotlib.pyplot as plt\n",
    "\n",
    "fig, ax = plt.subplots(8, 1, tight_layout=True, figsize=(16, 16*8))\n",
    "\n",
    "plt.xlabel('X',fontsize=18)\n",
    "plt.ylabel('Y',fontsize=18)\n",
    "plt.title('img_quadratic_principal D=' + str(D))\n",
    "\n",
    "for k in range(8):\n",
    "    ax[k].set_xscale('log')\n",
    "    ax[k].grid(which=\"both\") # グリッド表示。\"both\"はxy軸両\n",
    "    ax[k].set_xlabel(\"x\")\n",
    "    ax[k].set_ylabel(\"y\")\n",
    "\n",
    "ax[7].set_xscale('linear')\n",
    "\n",
    "ylabel_str = \"blue: left side, \" + \"orange: \" + str((2^(r-1) - 1)/2 + m_1) +\" *loglog\"\n",
    "ax[4].set_ylabel(ylabel_str)\n",
    "ax[5].set_ylabel(\"Diffence between Left side and Right side first term\")\n",
    "\n",
    "ax[0].set_title(\"weighted_sum\", c=\"darkred\", size=\"large\")\n",
    "ax[1].set_title(\"weighted_sum_spl\", c=\"darkred\", size=\"large\")\n",
    "ax[2].set_title(\"weighted_sum_pri\", c=\"darkred\", size=\"large\")\n",
    "ax[3].set_title(\"weighted_sum_r_p\", c=\"darkred\", size=\"large\")\n",
    "title_str =\"img_quadratic_principal:\" + \"d=\" + str(d) + \",\" + \"D=\" + str(D) + \",\" + \"h=\" + str(H) + \",\" + \"C=\" + str(co_loglog) + \",\" +\"X=\" + str(X) \n",
    "ax[4].set_title(title_str, c=\"darkred\", size=\"large\")\n",
    "ax[5].set_title(\"Deffence between img_quadratic_principal Left side and Right side first term\", c=\"darkred\", size=\"large\")\n",
    "\n",
    "for i in range(0,int_X/PRIME_TABLE_SIZE):\n",
    "    for j in range(0,len(plot_list[i][1])):\n",
    "        ax[0].scatter(plot_list[i][1][j][0], plot_list[i][1][j][1], color=\"blue\")\n",
    "        ax[1].scatter(plot_list[i][1][j][0], plot_list[i][1][j][2], color=\"red\")\n",
    "        ax[2].scatter(plot_list[i][1][j][0], plot_list[i][1][j][3], color=\"yellow\")\n",
    "        ax[3].scatter(plot_list[i][1][j][0], plot_list[i][1][j][4], color=\"orange\") \n",
    "        ax[4].scatter(plot_list[i][1][j][0], plot_list[i][1][j][1] - h*plot_list[i][1][j][3] - h*plot_list[i][1][j][4], color=\"blue\") \n",
    "        ax[4].scatter(plot_list[i][1][j][0],  co_loglog*float(log(log(plot_list[i][1][j][0]))), color=\"orange\") \n",
    "        ax[5].scatter(plot_list[i][1][j][0], plot_list[i][1][j][1] - h*plot_list[i][1][j][3] - h*plot_list[i][1][j][4] - co_loglog*float(log(log(plot_list[i][1][j][0]))) , color=\"red\")\n",
    "        ax[6].scatter(plot_list[i][1][j][0], plot_list[i][1][j][5] , color=\"gray\")\n",
    "\n",
    "        ax[7].scatter(plot_list[i][1][j][0], plot_list[i][1][j][1] - h*plot_list[i][1][j][3] - h*plot_list[i][1][j][4], color=\"blue\") \n",
    "        ax[7].scatter(plot_list[i][1][j][0],  co_loglog*float(log(log(plot_list[i][1][j][0]))), color=\"orange\") \n",
    "        \n",
    "bbox = ax[4].get_tightbbox(fig.canvas.get_renderer())\n",
    "file_name = \"../output/\"+title_str +'.png'\n",
    "fig.savefig(file_name,dpi=fig.dpi,bbox_inches=bbox.transformed(fig.dpi_scale_trans.inverted()))\n",
    "    \n",
    "plt.show()  "
   ]
  }
 ],
 "metadata": {
  "celltoolbar": "Tags",
  "kernelspec": {
   "display_name": "SageMath 9.4",
   "language": "sage",
   "name": "sagemath"
  },
  "language_info": {
   "codemirror_mode": {
    "name": "ipython",
    "version": 3
   },
   "file_extension": ".py",
   "mimetype": "text/x-python",
   "name": "python",
   "nbconvert_exporter": "python",
   "pygments_lexer": "ipython3",
   "version": "3.9.5"
  },
  "papermill": {
   "default_parameters": {},
   "duration": 2.787762,
   "end_time": "2022-05-27T08:28:58.266979",
   "environment_variables": {},
   "exception": true,
   "input_path": "img_quadratic_principal_papermill_template.ipynb",
   "output_path": "../output/out_3_300_1.ipynb",
   "parameters": {
    "D": 12,
    "PARA": 1,
    "X": 300,
    "d": 3,
    "h": 2,
    "m_1": 0,
    "r": 2
   },
   "start_time": "2022-05-27T08:28:55.479217",
   "version": "2.3.4"
  }
 },
 "nbformat": 4,
 "nbformat_minor": 5
}
