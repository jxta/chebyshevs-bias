{
 "cells": [
  {
   "cell_type": "code",
   "execution_count": 1,
   "id": "65d08476",
   "metadata": {
    "execution": {
     "iopub.execute_input": "2022-05-27T12:20:17.837288Z",
     "iopub.status.busy": "2022-05-27T12:20:17.835695Z",
     "iopub.status.idle": "2022-05-27T12:20:17.847639Z",
     "shell.execute_reply": "2022-05-27T12:20:17.846774Z"
    },
    "papermill": {
     "duration": 0.027703,
     "end_time": "2022-05-27T12:20:17.853440",
     "exception": false,
     "start_time": "2022-05-27T12:20:17.825737",
     "status": "completed"
    },
    "tags": [
     "parameters"
    ]
   },
   "outputs": [],
   "source": [
    "d = 30\n",
    "D = 120\n",
    "r = 3\n",
    "m_1 = 0\n",
    "X =10^10\n",
    "PARA = 100"
   ]
  },
  {
   "cell_type": "code",
   "execution_count": 2,
   "id": "ada2ea22",
   "metadata": {
    "execution": {
     "iopub.execute_input": "2022-05-27T12:20:17.861824Z",
     "iopub.status.busy": "2022-05-27T12:20:17.860983Z",
     "iopub.status.idle": "2022-05-27T12:20:17.872223Z",
     "shell.execute_reply": "2022-05-27T12:20:17.870367Z"
    },
    "papermill": {
     "duration": 0.018497,
     "end_time": "2022-05-27T12:20:17.875385",
     "exception": false,
     "start_time": "2022-05-27T12:20:17.856888",
     "status": "completed"
    },
    "tags": [
     "injected-parameters"
    ]
   },
   "outputs": [],
   "source": [
    "# Parameters\n",
    "d = 3\n",
    "D = 12\n",
    "r = 2\n",
    "m_1 = 0\n",
    "h = 2\n",
    "X = \"10^8\"\n",
    "PARA = 1\n"
   ]
  },
  {
   "cell_type": "code",
   "execution_count": 3,
   "id": "9f1a4fd3",
   "metadata": {
    "execution": {
     "iopub.execute_input": "2022-05-27T12:20:17.888842Z",
     "iopub.status.busy": "2022-05-27T12:20:17.887581Z",
     "iopub.status.idle": "2022-05-27T12:20:18.233050Z",
     "shell.execute_reply": "2022-05-27T12:20:18.231458Z"
    },
    "papermill": {
     "duration": 0.354702,
     "end_time": "2022-05-27T12:20:18.238148",
     "exception": false,
     "start_time": "2022-05-27T12:20:17.883446",
     "status": "completed"
    },
    "tags": []
   },
   "outputs": [],
   "source": [
    "PRIME_TABLE_SIZE = 10^8\n",
    "int_X = sage_eval(X)\n",
    "K.<a> = NumberField(x^2 - d)\n",
    "co_loglog = float((2^(r-1) - 1)/2 + m_1)\n",
    "H = K.class_number()\n",
    "h = K.narrow_class_group().order()\n",
    "narrow = 0\n",
    "if (H != h):\n",
    "    narrow = 1"
   ]
  },
  {
   "cell_type": "code",
   "execution_count": 4,
   "id": "e8e5206d",
   "metadata": {
    "execution": {
     "iopub.execute_input": "2022-05-27T12:20:18.250638Z",
     "iopub.status.busy": "2022-05-27T12:20:18.248847Z",
     "iopub.status.idle": "2022-05-27T12:20:18.260736Z",
     "shell.execute_reply": "2022-05-27T12:20:18.259095Z"
    },
    "papermill": {
     "duration": 0.020843,
     "end_time": "2022-05-27T12:20:18.265010",
     "exception": false,
     "start_time": "2022-05-27T12:20:18.244167",
     "status": "completed"
    },
    "tags": []
   },
   "outputs": [],
   "source": [
    "import struct\n",
    "import urllib.request\n",
    "import ssl\n",
    "ssl._create_default_https_context = ssl._create_unverified_context"
   ]
  },
  {
   "cell_type": "code",
   "execution_count": 5,
   "id": "7ab0f0e3",
   "metadata": {
    "execution": {
     "iopub.execute_input": "2022-05-27T12:20:18.277742Z",
     "iopub.status.busy": "2022-05-27T12:20:18.276579Z",
     "iopub.status.idle": "2022-05-27T12:20:18.293776Z",
     "shell.execute_reply": "2022-05-27T12:20:18.292831Z"
    },
    "papermill": {
     "duration": 0.024844,
     "end_time": "2022-05-27T12:20:18.298170",
     "exception": false,
     "start_time": "2022-05-27T12:20:18.273326",
     "status": "completed"
    },
    "tags": []
   },
   "outputs": [],
   "source": [
    "@parallel(PARA)\n",
    "def plot_points_create(prime_table_segment):\n",
    "    \n",
    "    plot_points = []\n",
    "    \n",
    "    prime_table_name = 'prime_' + str(prime_table_segment)\n",
    "    prime_table_target_url = \"https://s3ds.mdx.jp/prime_tables/\" + prime_table_name\n",
    "    prime_table_obj = urllib.request.urlopen(prime_table_target_url)\n",
    "    prime_binary = prime_table_obj.read()  \n",
    "    table_size = len(prime_binary)/8\n",
    "    \n",
    "    prime_tmp = 0\n",
    "    \n",
    "    for i in range(0,table_size):\n",
    "        prime = int.from_bytes(prime_binary[8*i:8*i+8], byteorder='big')  \n",
    "\n",
    "        if prime_table_segment == 0:\n",
    "             if (prime - prime_tmp)  > (10^(len(str(prime)) - 2)) :\n",
    "                plot_points.append(prime)\n",
    "                prime_tmp = prime\n",
    "        else:\n",
    "            if (prime - prime_tmp)  > (10^(len(str(prime)) - 3)) :\n",
    "                plot_points.append(prime)\n",
    "                prime_tmp = prime\n",
    "                \n",
    "        if i == (table_size -1):\n",
    "            plot_points.append(prime)\n",
    "    \n",
    "    return plot_points"
   ]
  },
  {
   "cell_type": "code",
   "execution_count": 6,
   "id": "dbbcd8f1",
   "metadata": {
    "execution": {
     "iopub.execute_input": "2022-05-27T12:20:18.309183Z",
     "iopub.status.busy": "2022-05-27T12:20:18.308039Z",
     "iopub.status.idle": "2022-05-27T12:20:43.086734Z",
     "shell.execute_reply": "2022-05-27T12:20:43.085427Z"
    },
    "papermill": {
     "duration": 24.787709,
     "end_time": "2022-05-27T12:20:43.091701",
     "exception": false,
     "start_time": "2022-05-27T12:20:18.303992",
     "status": "completed"
    },
    "tags": []
   },
   "outputs": [],
   "source": [
    "plot_points = list(plot_points_create(list(range(0,int_X/PRIME_TABLE_SIZE))))\n",
    "plot_points.sort()"
   ]
  },
  {
   "cell_type": "code",
   "execution_count": 7,
   "id": "fbb79fef",
   "metadata": {
    "execution": {
     "iopub.execute_input": "2022-05-27T12:20:43.102200Z",
     "iopub.status.busy": "2022-05-27T12:20:43.100960Z",
     "iopub.status.idle": "2022-05-27T12:20:43.132281Z",
     "shell.execute_reply": "2022-05-27T12:20:43.131258Z"
    },
    "papermill": {
     "duration": 0.041165,
     "end_time": "2022-05-27T12:20:43.136947",
     "exception": false,
     "start_time": "2022-05-27T12:20:43.095782",
     "status": "completed"
    },
    "tags": []
   },
   "outputs": [],
   "source": [
    "@parallel(PARA)\n",
    "def list_create(prime_table_segment):\n",
    "    \n",
    "    global plot__points, narrow\n",
    "    \n",
    "    points = plot_points[prime_table_segment][1]\n",
    "    \n",
    "    plot_list = []\n",
    "\n",
    "    weighted_sum = 0.0\n",
    "    weighted_sum_spl = 0.0\n",
    "    weighted_sum_pri = 0.0\n",
    "    weighted_sum_r_p = 0.0\n",
    "    weighted_sum_ramified = 0.0\n",
    "\n",
    "    \n",
    "    n = 0\n",
    "    \n",
    "    prime_table_name = 'prime_' + str(prime_table_segment)\n",
    "    prime_table_target_url = \"https://s3ds.mdx.jp/prime_tables/\" + prime_table_name\n",
    "    prime_table_obj = urllib.request.urlopen(prime_table_target_url)\n",
    "    prime_binary = prime_table_obj.read()  \n",
    "    table_size = len(prime_binary)/8\n",
    "    \n",
    "\n",
    "\n",
    "    for i in range(0,table_size):\n",
    "        prime = int.from_bytes(prime_binary[8*i:8*i+8], byteorder='big')    \n",
    "        \n",
    "        I = K.ideal(prime)\n",
    "        F = I.factor()\n",
    "        len_F = len(F)\n",
    "        ramified = F[0][1]\n",
    "        norm = F[0][0].absolute_norm()\n",
    "        \n",
    "        weighted_sum = weighted_sum + ramified*float(len_F*(1/sqrt(norm)))\n",
    "\n",
    "        if (len_F > 1) & (ramified ==1) :\n",
    "            weighted_sum_spl = weighted_sum_spl + float(len_F*(1/sqrt(norm)))\n",
    "            if F[0][0].is_principal():\n",
    "                if narrow == 0:\n",
    "                    weighted_sum_pri = weighted_sum_pri + ramified*float(len_F*(1/sqrt(norm)))\n",
    "                else:\n",
    "                    conj_list = F[0][0].gens_reduced()[0].galois_conjugates(K)\n",
    "                    if (conj_list[0]*conj_list[1] > 0):\n",
    "                        weighted_sum_pri = weighted_sum_pri + ramified*float(len_F*(1/sqrt(norm)))\n",
    "            if norm >= points[n]:\n",
    "                plot_list.append([norm, weighted_sum, weighted_sum_spl, weighted_sum_pri, weighted_sum_r_p,weighted_sum_ramified ])\n",
    "                n = n + 1\n",
    "        if (len_F == 1) & (ramified > 1) :\n",
    "            weighted_sum_ramified = weighted_sum_ramified + ramified*float(len_F*(1/sqrt(norm)))\n",
    "        if (len_F == 1) & (ramified ==1) & (prime <= int_X):\n",
    "            weighted_sum_r_p = weighted_sum_r_p + float(len_F*(1/sqrt(norm)))\n",
    "    if norm <= int_X:\n",
    "        plot_list.append([norm, weighted_sum, weighted_sum_spl, weighted_sum_pri, weighted_sum_r_p,weighted_sum_ramified])\n",
    "    prime_table_obj.close()\n",
    "    return(plot_list)"
   ]
  },
  {
   "cell_type": "code",
   "execution_count": 8,
   "id": "1e4b224e",
   "metadata": {
    "execution": {
     "iopub.execute_input": "2022-05-27T12:20:43.148369Z",
     "iopub.status.busy": "2022-05-27T12:20:43.147227Z"
    },
    "papermill": {
     "duration": 3601.566014,
     "end_time": "2022-05-27T13:20:44.709457",
     "exception": false,
     "start_time": "2022-05-27T12:20:43.143443",
     "status": "completed"
    },
    "tags": []
   },
   "outputs": [],
   "source": [
    "plot_list = list(list_create(list(range(0,int_X/PRIME_TABLE_SIZE))))\n",
    "plot_list.sort()"
   ]
  },
  {
   "cell_type": "code",
   "execution_count": null,
   "id": "c32a5fd2",
   "metadata": {
    "papermill": {
     "duration": null,
     "end_time": null,
     "exception": null,
     "start_time": null,
     "status": "completed"
    },
    "tags": []
   },
   "outputs": [],
   "source": [
    "offset= [0.0,0.0,0.0,0.0,0.0, 0.0]\n",
    "for l in range(0,int_X/PRIME_TABLE_SIZE):\n",
    "    for m in range(0, len(plot_list[l][1])):\n",
    "        for n in [1 ,2, 3, 4, 5]:\n",
    "            plot_list[l][1][m][n] = plot_list[l][1][m][n] + offset[n]\n",
    "    for n in [1 ,2, 3, 4, 5]:\n",
    "        offset[n] = plot_list[l][1][m][n]"
   ]
  },
  {
   "cell_type": "code",
   "execution_count": null,
   "id": "84cf726e",
   "metadata": {
    "papermill": {
     "duration": null,
     "end_time": null,
     "exception": null,
     "start_time": null,
     "status": "completed"
    },
    "tags": []
   },
   "outputs": [],
   "source": [
    "\"\"\"\n",
    "bias against pricipal ideal (img_quadratic_principal)\n",
    "\"\"\"\n",
    "import matplotlib.pyplot as plt\n",
    "\n",
    "fig, ax = plt.subplots(8, 1, tight_layout=True, figsize=(16, 16*8))\n",
    "\n",
    "plt.xlabel('X',fontsize=18)\n",
    "plt.ylabel('Y',fontsize=18)\n",
    "plt.title('img_quadratic_principal D=' + str(D))\n",
    "\n",
    "for k in range(8):\n",
    "    ax[k].set_xscale('log')\n",
    "    ax[k].grid(which=\"both\") # グリッド表示。\"both\"はxy軸両\n",
    "    ax[k].set_xlabel(\"x\")\n",
    "    ax[k].set_ylabel(\"y\")\n",
    "\n",
    "ax[7].set_xscale('linear')\n",
    "\n",
    "ylabel_str = \"blue: left side, \" + \"orange: \" + str((2^(r-1) - 1)/2 + m_1) +\" *loglog\"\n",
    "ax[4].set_ylabel(ylabel_str)\n",
    "ax[5].set_ylabel(\"Diffence between Left side and Right side first term\")\n",
    "\n",
    "ax[0].set_title(\"weighted_sum\", c=\"darkred\", size=\"large\")\n",
    "ax[1].set_title(\"weighted_sum_spl\", c=\"darkred\", size=\"large\")\n",
    "ax[2].set_title(\"weighted_sum_pri\", c=\"darkred\", size=\"large\")\n",
    "ax[3].set_title(\"weighted_sum_r_p\", c=\"darkred\", size=\"large\")\n",
    "title_str =\"img_quadratic_principal:\" + \"d=\" + str(d) + \",\" + \"D=\" + str(D) + \",\" + \"h=\" + str(H) + \",\" + \"C=\" + str(co_loglog) + \",\" +\"X=\" + str(X) \n",
    "ax[4].set_title(title_str, c=\"darkred\", size=\"large\")\n",
    "ax[5].set_title(\"Deffence between img_quadratic_principal Left side and Right side first term\", c=\"darkred\", size=\"large\")\n",
    "\n",
    "for i in range(0,int_X/PRIME_TABLE_SIZE):\n",
    "    for j in range(0,len(plot_list[i][1])):\n",
    "        ax[0].scatter(plot_list[i][1][j][0], plot_list[i][1][j][1], color=\"blue\")\n",
    "        ax[1].scatter(plot_list[i][1][j][0], plot_list[i][1][j][2], color=\"red\")\n",
    "        ax[2].scatter(plot_list[i][1][j][0], plot_list[i][1][j][3], color=\"yellow\")\n",
    "        ax[3].scatter(plot_list[i][1][j][0], plot_list[i][1][j][4], color=\"orange\") \n",
    "        ax[4].scatter(plot_list[i][1][j][0], plot_list[i][1][j][1] - h*plot_list[i][1][j][3] - h*plot_list[i][1][j][4], color=\"blue\") \n",
    "        ax[4].scatter(plot_list[i][1][j][0],  co_loglog*float(log(log(plot_list[i][1][j][0]))), color=\"orange\") \n",
    "        ax[5].scatter(plot_list[i][1][j][0], plot_list[i][1][j][1] - h*plot_list[i][1][j][3] - h*plot_list[i][1][j][4] - co_loglog*float(log(log(plot_list[i][1][j][0]))) , color=\"red\")\n",
    "        ax[6].scatter(plot_list[i][1][j][0], plot_list[i][1][j][5] , color=\"gray\")\n",
    "\n",
    "        ax[7].scatter(plot_list[i][1][j][0], plot_list[i][1][j][1] - h*plot_list[i][1][j][3] - h*plot_list[i][1][j][4], color=\"blue\") \n",
    "        ax[7].scatter(plot_list[i][1][j][0],  co_loglog*float(log(log(plot_list[i][1][j][0]))), color=\"orange\") \n",
    "        \n",
    "bbox = ax[4].get_tightbbox(fig.canvas.get_renderer())\n",
    "file_name = \"../output/\"+title_str +'.png'\n",
    "fig.savefig(file_name,dpi=fig.dpi,bbox_inches=bbox.transformed(fig.dpi_scale_trans.inverted()))\n",
    "    \n",
    "plt.show()  "
   ]
  }
 ],
 "metadata": {
  "celltoolbar": "Tags",
  "kernelspec": {
   "display_name": "SageMath 9.4",
   "language": "sage",
   "name": "sagemath"
  },
  "language_info": {
   "codemirror_mode": {
    "name": "ipython",
    "version": 3
   },
   "file_extension": ".py",
   "mimetype": "text/x-python",
   "name": "python",
   "nbconvert_exporter": "python",
   "pygments_lexer": "ipython3",
   "version": "3.9.5"
  },
  "papermill": {
   "default_parameters": {},
   "duration": 3632.702249,
   "end_time": "2022-05-27T13:20:48.063682",
   "environment_variables": {},
   "exception": null,
   "input_path": "img_quadratic_principal_papermill_template.ipynb",
   "output_path": "../output/out_3_10^8_1.ipynb",
   "parameters": {
    "D": 12,
    "PARA": 1,
    "X": "10^8",
    "d": 3,
    "h": 2,
    "m_1": 0,
    "r": 2
   },
   "start_time": "2022-05-27T12:20:15.361433",
   "version": "2.3.4"
  }
 },
 "nbformat": 4,
 "nbformat_minor": 5
}