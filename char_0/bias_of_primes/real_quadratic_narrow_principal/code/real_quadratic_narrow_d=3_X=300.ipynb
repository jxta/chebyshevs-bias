{
 "cells": [
  {
   "cell_type": "code",
   "execution_count": 1,
   "metadata": {
    "tags": [
     "parameters"
    ]
   },
   "outputs": [],
   "source": [
    "d = 3\n",
    "D = 12\n",
    "r = 2\n",
    "m_1 = 0\n",
    "X =300\n",
    "PARA = 100\n",
    "int_X = 300"
   ]
  },
  {
   "cell_type": "code",
   "execution_count": 2,
   "metadata": {},
   "outputs": [],
   "source": [
    "PRIME_TABLE_SIZE = 10^8\n",
    "K.<a> = NumberField(x^2 - d)\n",
    "co_loglog = float((2^(r-1) - 1)/2 + m_1)\n",
    "H = K.class_number()\n",
    "h = K.narrow_class_group().order()\n",
    "narrow = 0\n",
    "if (H != h):\n",
    "    narrow = 1"
   ]
  },
  {
   "cell_type": "code",
   "execution_count": 3,
   "metadata": {},
   "outputs": [],
   "source": [
    "import struct\n",
    "import urllib.request\n",
    "import ssl\n",
    "ssl._create_default_https_context = ssl._create_unverified_context"
   ]
  },
  {
   "cell_type": "code",
   "execution_count": 53,
   "metadata": {},
   "outputs": [],
   "source": [
    "def list_create(prime_table_segment):\n",
    "    \n",
    "    global plot__points, narrow\n",
    "    int_X = 300\n",
    "    points = [0,500]\n",
    "    \n",
    "    plot_list = []\n",
    "\n",
    "    weighted_sum = 0.0\n",
    "    weighted_sum_spl = 0.0\n",
    "    weighted_sum_pri = 0.0\n",
    "    weighted_sum_r_p = 0.0\n",
    "    weighted_sum_ramified = 0.0\n",
    "\n",
    "    \n",
    "    n = 0\n",
    "    \n",
    "    prime_table_name = 'prime_' + str(prime_table_segment)\n",
    "    prime_table_target_url = \"https://s3ds.mdx.jp/prime_tables/\" + prime_table_name\n",
    "    prime_table_obj = urllib.request.urlopen(prime_table_target_url)\n",
    "    prime_binary = prime_table_obj.read()  \n",
    "    table_size = len(prime_binary)/8\n",
    "    \n",
    "\n",
    "\n",
    "    for i in range(0,300):\n",
    "        prime = int.from_bytes(prime_binary[8*i:8*i+8], byteorder='big')    \n",
    "        if prime > 300:\n",
    "            break\n",
    "        \n",
    "        I = K.ideal(prime)\n",
    "        F = I.factor()\n",
    "        len_F = len(F)\n",
    "        ramified = F[0][1]\n",
    "        norm = F[0][0].absolute_norm()\n",
    "        if norm <= int_X:\n",
    "            weighted_sum = weighted_sum + float(len_F*(1/sqrt(norm)))\n",
    "        \n",
    "        if (len_F > 1) & (ramified ==1) :\n",
    "            weighted_sum_spl = weighted_sum_spl + float(len_F*(1/sqrt(norm)))\n",
    "            if F[0][0].is_principal():\n",
    "                if narrow == 0:\n",
    "                    weighted_sum_pri = weighted_sum_pri + float(len_F*(1/sqrt(norm)))\n",
    "                    print(\"narrow=0:\" ,prime)\n",
    "                else:\n",
    "                    conj_list = F[0][0].gens_reduced()[0].galois_conjugates(K)\n",
    "                    if (conj_list[0]*conj_list[1] > 0):\n",
    "                        weighted_sum_pri = weighted_sum_pri + float(len_F*(1/sqrt(norm)))\n",
    "                        print(\"narrow principle:\" ,prime)\n",
    "            if norm >= points[n]:\n",
    "                n = n + 1\n",
    "        if (len_F == 1) & (ramified > 1) :\n",
    "            weighted_sum_ramified = weighted_sum_ramified + float(len_F*(1/sqrt(norm)))\n",
    "            print(\"ramified:\" ,prime)\n",
    "        if (len_F == 1) & (ramified ==1) & (prime <= int_X):\n",
    "            weighted_sum_r_p = weighted_sum_r_p + float(len_F*(1/sqrt(norm)))\n",
    "        if norm <= int_X:\n",
    "            print(prime, norm,  weighted_sum, weighted_sum_spl, weighted_sum_pri, weighted_sum_r_p,weighted_sum_ramified)\n",
    "    prime_table_obj.close()\n",
    "    return(plot_list)"
   ]
  },
  {
   "cell_type": "code",
   "execution_count": 54,
   "metadata": {
    "scrolled": false
   },
   "outputs": [
    {
     "name": "stdout",
     "output_type": "stream",
     "text": [
      "ramified: 2\n",
      "2 2 0.707106781186548 0.000000000000000 0.000000000000000 0.000000000000000 0.707106781186548\n",
      "ramified: 3\n",
      "3 3 1.28445705037617 0.000000000000000 0.000000000000000 0.000000000000000 1.28445705037617\n",
      "5 25 1.48445705037617 0.000000000000000 0.000000000000000 0.200000000000000 1.28445705037617\n",
      "7 49 1.62731419323332 0.000000000000000 0.000000000000000 0.342857142857143 1.28445705037617\n",
      "11 11 2.23033688238884 0.603022689155527 0.000000000000000 0.342857142857143 1.28445705037617\n",
      "narrow principle: 13\n",
      "13 13 2.78503707861407 1.15772288538076 0.554700196225229 0.342857142857143 1.28445705037617\n",
      "17 289 2.84386060802584 1.15772288538076 0.554700196225229 0.401680672268908 1.28445705037617\n",
      "23 23 3.26088943613999 1.57475171349491 0.554700196225229 0.454312251216276 1.28445705037617\n",
      "narrow principle: 37\n",
      "37 37 3.58968741075070 1.90354968810562 0.883498170835944 0.521053074353095 1.28445705037617\n",
      "47 47 3.88141739374649 2.19527967110141 0.883498170835944 0.568699132209022 1.28445705037617\n",
      "59 59 4.14179521570814 2.45565749306306 0.883498170835944 0.587567056737324 1.28445705037617\n",
      "narrow principle: 61\n",
      "61 61 4.39786897557393 2.71173125292885 1.13957193070174 0.587567056737324 1.28445705037617\n",
      "71 71 4.63522530721270 2.94908758456762 1.13957193070174 0.602492429871652 1.28445705037617\n",
      "narrow principle: 73\n",
      "73 73 4.86930760160496 3.18316987895988 1.37365422509400 0.602492429871652 1.28445705037617\n",
      "83 83 5.08883612158434 3.40269839893926 1.37365422509400 0.615150657719754 1.28445705037617\n",
      "narrow principle: 97\n",
      "97 97 5.29190535461107 3.60576763196599 1.57672345812072 0.626386612775933 1.28445705037617\n",
      "107 107 5.48525265242020 3.79911492977512 1.57672345812072 0.645996340739021 1.28445705037617\n",
      "narrow principle: 109\n",
      "109 109 5.67681790946443 3.99068018681935 1.76828871516495 0.645996340739021 1.28445705037617\n",
      "131 131 5.85155872079664 4.16542099815156 1.76828871516495 0.662719914009176 1.28445705037617\n",
      "narrow principle: 157\n",
      "157 157 6.01117609769016 4.32503837504508 1.92790609205848 0.690547354638750 1.28445705037617\n",
      "167 167 6.16594074419699 4.47980302155191 1.92790609205848 0.696682323963904 1.28445705037617\n",
      "179 179 6.31542776274738 4.62929004010230 1.92790609205848 0.702462670784713 1.28445705037617\n",
      "narrow principle: 181\n",
      "181 181 6.46408659199681 4.77794886935173 2.07656492130791 0.702462670784713 1.28445705037617\n",
      "191 191 6.60880151305529 4.92266379041021 2.07656492130791 0.702462670784713 1.28445705037617\n",
      "narrow principle: 193\n",
      "193 193 6.75276466320503 5.06662694055995 2.22052807145765 0.702462670784713 1.28445705037617\n",
      "227 227 6.88550932552503 5.19937160287995 2.22052807145765 0.721787579970460 1.28445705037617\n",
      "narrow principle: 229\n",
      "229 229 7.01767304561604 5.33153532297096 2.35269179154867 0.721787579970460 1.28445705037617\n",
      "239 239 7.14704229108667 5.46090456844159 2.35269179154867 0.726079425464022 1.28445705037617\n",
      "narrow principle: 241\n",
      "241 241 7.27587361636684 5.58973589372176 2.48152311682883 0.726079425464022 1.28445705037617\n",
      "251 251 7.40211249698640 5.71597477434132 2.48152311682883 0.726079425464022 1.28445705037617\n",
      "263 263 7.52543778018204 5.83930005753696 2.48152311682883 0.729970476047680 1.28445705037617\n",
      "narrow principle: 277\n",
      "277 277 7.64560613380726 5.95946841116218 2.60169147045405 0.737377985067008 1.28445705037617\n"
     ]
    }
   ],
   "source": [
    "plot_list = list_create(0)"
   ]
  },
  {
   "cell_type": "code",
   "execution_count": null,
   "metadata": {},
   "outputs": [],
   "source": [
    "307 85849 7.64560613380726 5.95946841116218 2.60169147045405 0.747883242116088 1.28445705037617"
   ]
  },
  {
   "cell_type": "code",
   "execution_count": 20,
   "metadata": {},
   "outputs": [
    {
     "data": {
      "text/plain": [
       "3.00337214272296"
      ]
     },
     "execution_count": 20,
     "metadata": {},
     "output_type": "execute_result"
    }
   ],
   "source": [
    "0.401680672268908 + 2.60169147045405"
   ]
  },
  {
   "cell_type": "code",
   "execution_count": 21,
   "metadata": {},
   "outputs": [
    {
     "data": {
      "text/plain": [
       "8.93005705037617"
      ]
     },
     "execution_count": 21,
     "metadata": {},
     "output_type": "execute_result"
    }
   ],
   "source": [
    "7.6456 + 1/sqrt(2.0) + 1/sqrt(3.0)"
   ]
  },
  {
   "cell_type": "code",
   "execution_count": 30,
   "metadata": {},
   "outputs": [
    {
     "data": {
      "text/plain": [
       "7.64560613380727"
      ]
     },
     "execution_count": 30,
     "metadata": {},
     "output_type": "execute_result"
    }
   ],
   "source": [
    "1/sqrt(2.0) + 1/sqrt(3.0)+ 2*(1/sqrt(23.0) + 1/sqrt(277.0) + 1/sqrt(263.0) + 1/sqrt(251.0) + 1/sqrt(241.0) + 1/sqrt(239.0)+ 1/sqrt(229.0) + 1/sqrt(227.0) + 1/sqrt(193.0) + 1/sqrt(191.0) + 1/sqrt(181.0) + 1/sqrt(179.0) + 1/sqrt(167.0) + 1/sqrt(157.0)+ 1/sqrt(131.0) + 1/sqrt(109.0) + 1/sqrt(107.0) + 1/sqrt(97.0) + 1/sqrt(83.0) + 1/sqrt(73.0) + 1/sqrt(71.0) + 1/sqrt(61.0)+ 1/sqrt(59.0) + 1/sqrt(47.0) + 1/sqrt(37.0) + 1/sqrt(13.0) + 1/sqrt(11.0))+ 1/5.0 + 1/7.0 + 1/17."
   ]
  },
  {
   "cell_type": "code",
   "execution_count": 12,
   "metadata": {},
   "outputs": [
    {
     "name": "stdout",
     "output_type": "stream",
     "text": [
      "1 1 361 Fractional ideal (19)\n"
     ]
    }
   ],
   "source": [
    "\n",
    "prime =19\n",
    "I = K.ideal(prime)\n",
    "F = I.factor()\n",
    "len_F = len(F)\n",
    "ramified = F[0][1]\n",
    "norm = F[0][0].absolute_norm()\n",
    "print(len_F, ramified, norm, F)"
   ]
  },
  {
   "cell_type": "code",
   "execution_count": 6,
   "metadata": {},
   "outputs": [
    {
     "ename": "TypeError",
     "evalue": "unable to convert rational 3/1000000 to an integer",
     "output_type": "error",
     "traceback": [
      "\u001b[0;31m---------------------------------------------------------------------------\u001b[0m",
      "\u001b[0;31mTypeError\u001b[0m                                 Traceback (most recent call last)",
      "\u001b[0;32m<ipython-input-6-953bc6f63092>\u001b[0m in \u001b[0;36m<module>\u001b[0;34m\u001b[0m\n\u001b[1;32m      1\u001b[0m \u001b[0moffset\u001b[0m\u001b[0;34m=\u001b[0m \u001b[0;34m[\u001b[0m\u001b[0mRealNumber\u001b[0m\u001b[0;34m(\u001b[0m\u001b[0;34m'0.0'\u001b[0m\u001b[0;34m)\u001b[0m\u001b[0;34m,\u001b[0m\u001b[0mRealNumber\u001b[0m\u001b[0;34m(\u001b[0m\u001b[0;34m'0.0'\u001b[0m\u001b[0;34m)\u001b[0m\u001b[0;34m,\u001b[0m\u001b[0mRealNumber\u001b[0m\u001b[0;34m(\u001b[0m\u001b[0;34m'0.0'\u001b[0m\u001b[0;34m)\u001b[0m\u001b[0;34m,\u001b[0m\u001b[0mRealNumber\u001b[0m\u001b[0;34m(\u001b[0m\u001b[0;34m'0.0'\u001b[0m\u001b[0;34m)\u001b[0m\u001b[0;34m,\u001b[0m\u001b[0mRealNumber\u001b[0m\u001b[0;34m(\u001b[0m\u001b[0;34m'0.0'\u001b[0m\u001b[0;34m)\u001b[0m\u001b[0;34m,\u001b[0m \u001b[0mRealNumber\u001b[0m\u001b[0;34m(\u001b[0m\u001b[0;34m'0.0'\u001b[0m\u001b[0;34m)\u001b[0m\u001b[0;34m]\u001b[0m\u001b[0;34m\u001b[0m\u001b[0;34m\u001b[0m\u001b[0m\n\u001b[0;32m----> 2\u001b[0;31m \u001b[0;32mfor\u001b[0m \u001b[0ml\u001b[0m \u001b[0;32min\u001b[0m \u001b[0mrange\u001b[0m\u001b[0;34m(\u001b[0m\u001b[0mInteger\u001b[0m\u001b[0;34m(\u001b[0m\u001b[0;36m0\u001b[0m\u001b[0;34m)\u001b[0m\u001b[0;34m,\u001b[0m\u001b[0mint_X\u001b[0m\u001b[0;34m/\u001b[0m\u001b[0mPRIME_TABLE_SIZE\u001b[0m\u001b[0;34m)\u001b[0m\u001b[0;34m:\u001b[0m\u001b[0;34m\u001b[0m\u001b[0;34m\u001b[0m\u001b[0m\n\u001b[0m\u001b[1;32m      3\u001b[0m     \u001b[0;32mfor\u001b[0m \u001b[0mm\u001b[0m \u001b[0;32min\u001b[0m \u001b[0mrange\u001b[0m\u001b[0;34m(\u001b[0m\u001b[0mInteger\u001b[0m\u001b[0;34m(\u001b[0m\u001b[0;36m0\u001b[0m\u001b[0;34m)\u001b[0m\u001b[0;34m,\u001b[0m \u001b[0mlen\u001b[0m\u001b[0;34m(\u001b[0m\u001b[0mplot_list\u001b[0m\u001b[0;34m[\u001b[0m\u001b[0ml\u001b[0m\u001b[0;34m]\u001b[0m\u001b[0;34m[\u001b[0m\u001b[0mInteger\u001b[0m\u001b[0;34m(\u001b[0m\u001b[0;36m1\u001b[0m\u001b[0;34m)\u001b[0m\u001b[0;34m]\u001b[0m\u001b[0;34m)\u001b[0m\u001b[0;34m)\u001b[0m\u001b[0;34m:\u001b[0m\u001b[0;34m\u001b[0m\u001b[0;34m\u001b[0m\u001b[0m\n\u001b[1;32m      4\u001b[0m         \u001b[0;32mfor\u001b[0m \u001b[0mn\u001b[0m \u001b[0;32min\u001b[0m \u001b[0;34m[\u001b[0m\u001b[0mInteger\u001b[0m\u001b[0;34m(\u001b[0m\u001b[0;36m1\u001b[0m\u001b[0;34m)\u001b[0m \u001b[0;34m,\u001b[0m\u001b[0mInteger\u001b[0m\u001b[0;34m(\u001b[0m\u001b[0;36m2\u001b[0m\u001b[0;34m)\u001b[0m\u001b[0;34m,\u001b[0m \u001b[0mInteger\u001b[0m\u001b[0;34m(\u001b[0m\u001b[0;36m3\u001b[0m\u001b[0;34m)\u001b[0m\u001b[0;34m,\u001b[0m \u001b[0mInteger\u001b[0m\u001b[0;34m(\u001b[0m\u001b[0;36m4\u001b[0m\u001b[0;34m)\u001b[0m\u001b[0;34m,\u001b[0m \u001b[0mInteger\u001b[0m\u001b[0;34m(\u001b[0m\u001b[0;36m5\u001b[0m\u001b[0;34m)\u001b[0m\u001b[0;34m]\u001b[0m\u001b[0;34m:\u001b[0m\u001b[0;34m\u001b[0m\u001b[0;34m\u001b[0m\u001b[0m\n\u001b[1;32m      5\u001b[0m             \u001b[0mplot_list\u001b[0m\u001b[0;34m[\u001b[0m\u001b[0ml\u001b[0m\u001b[0;34m]\u001b[0m\u001b[0;34m[\u001b[0m\u001b[0mInteger\u001b[0m\u001b[0;34m(\u001b[0m\u001b[0;36m1\u001b[0m\u001b[0;34m)\u001b[0m\u001b[0;34m]\u001b[0m\u001b[0;34m[\u001b[0m\u001b[0mm\u001b[0m\u001b[0;34m]\u001b[0m\u001b[0;34m[\u001b[0m\u001b[0mn\u001b[0m\u001b[0;34m]\u001b[0m \u001b[0;34m=\u001b[0m \u001b[0mplot_list\u001b[0m\u001b[0;34m[\u001b[0m\u001b[0ml\u001b[0m\u001b[0;34m]\u001b[0m\u001b[0;34m[\u001b[0m\u001b[0mInteger\u001b[0m\u001b[0;34m(\u001b[0m\u001b[0;36m1\u001b[0m\u001b[0;34m)\u001b[0m\u001b[0;34m]\u001b[0m\u001b[0;34m[\u001b[0m\u001b[0mm\u001b[0m\u001b[0;34m]\u001b[0m\u001b[0;34m[\u001b[0m\u001b[0mn\u001b[0m\u001b[0;34m]\u001b[0m \u001b[0;34m+\u001b[0m \u001b[0moffset\u001b[0m\u001b[0;34m[\u001b[0m\u001b[0mn\u001b[0m\u001b[0;34m]\u001b[0m\u001b[0;34m\u001b[0m\u001b[0;34m\u001b[0m\u001b[0m\n",
      "\u001b[0;32m~/sage/local/lib/python3.9/site-packages/sage/rings/rational.pyx\u001b[0m in \u001b[0;36msage.rings.rational.Rational.__index__ (build/cythonized/sage/rings/rational.cpp:6750)\u001b[0;34m()\u001b[0m\n\u001b[1;32m    561\u001b[0m             \u001b[0;32mreturn\u001b[0m \u001b[0mint\u001b[0m\u001b[0;34m(\u001b[0m\u001b[0mself\u001b[0m\u001b[0;34m)\u001b[0m\u001b[0;34m\u001b[0m\u001b[0;34m\u001b[0m\u001b[0m\n\u001b[1;32m    562\u001b[0m \u001b[0;34m\u001b[0m\u001b[0m\n\u001b[0;32m--> 563\u001b[0;31m         \u001b[0;32mraise\u001b[0m \u001b[0mTypeError\u001b[0m\u001b[0;34m(\u001b[0m\u001b[0;34mf\"unable to convert rational {self} to an integer\"\u001b[0m\u001b[0;34m)\u001b[0m\u001b[0;34m\u001b[0m\u001b[0;34m\u001b[0m\u001b[0m\n\u001b[0m\u001b[1;32m    564\u001b[0m \u001b[0;34m\u001b[0m\u001b[0m\n\u001b[1;32m    565\u001b[0m     \u001b[0mcdef\u001b[0m \u001b[0m__set_value\u001b[0m\u001b[0;34m(\u001b[0m\u001b[0mself\u001b[0m\u001b[0;34m,\u001b[0m \u001b[0mx\u001b[0m\u001b[0;34m,\u001b[0m \u001b[0munsigned\u001b[0m \u001b[0mint\u001b[0m \u001b[0mbase\u001b[0m\u001b[0;34m)\u001b[0m\u001b[0;34m:\u001b[0m\u001b[0;34m\u001b[0m\u001b[0;34m\u001b[0m\u001b[0m\n",
      "\u001b[0;31mTypeError\u001b[0m: unable to convert rational 3/1000000 to an integer"
     ]
    }
   ],
   "source": [
    "offset= [0.0,0.0,0.0,0.0,0.0, 0.0]\n",
    "for l in range(0,int_X/PRIME_TABLE_SIZE):\n",
    "    for m in range(0, len(plot_list[l][1])):\n",
    "        for n in [1 ,2, 3, 4, 5]:\n",
    "            plot_list[l][1][m][n] = plot_list[l][1][m][n] + offset[n]\n",
    "    for n in [1 ,2, 3, 4, 5]:\n",
    "        offset[n] = plot_list[l][1][m][n]"
   ]
  },
  {
   "cell_type": "code",
   "execution_count": null,
   "metadata": {},
   "outputs": [],
   "source": [
    "\"\"\"\n",
    "bias against pricipal ideal (real_quadratic_narrow)\n",
    "\"\"\"\n",
    "import matplotlib.pyplot as plt\n",
    "\n",
    "fig, ax = plt.subplots(8, 1, tight_layout=True, figsize=(16, 16*8))\n",
    "\n",
    "plt.xlabel('X',fontsize=18)\n",
    "plt.ylabel('Y',fontsize=18)\n",
    "plt.title('real_quadratic_narrow D=' + str(D))\n",
    "\n",
    "for k in range(8):\n",
    "    ax[k].set_xscale('log')\n",
    "    ax[k].grid(which=\"both\") # グリッド表示。\"both\"はxy軸両\n",
    "    ax[k].set_xlabel(\"x\")\n",
    "    ax[k].set_ylabel(\"y\")\n",
    "\n",
    "ax[7].set_xscale('linear')\n",
    "\n",
    "ylabel_str = \"blue: left side, \" + \"orange: \" + str((2^(r-1) - 1)/2 + m_1) +\" *loglog\"\n",
    "ax[4].set_ylabel(ylabel_str)\n",
    "ax[5].set_ylabel(\"Diffence between Left side and Right side first term\")\n",
    "\n",
    "ax[0].set_title(\"weighted_sum\", c=\"darkred\", size=\"large\")\n",
    "ax[1].set_title(\"weighted_sum_spl\", c=\"darkred\", size=\"large\")\n",
    "ax[2].set_title(\"weighted_sum_pri\", c=\"darkred\", size=\"large\")\n",
    "ax[3].set_title(\"weighted_sum_r_p\", c=\"darkred\", size=\"large\")\n",
    "title_str =\"real_quadratic_narrow: \" + \"d=\" + str(d) + \",\" + \"D=\" + str(D) + \",\" + \"h+=\" + str(h) + \",\" + \"h=\" + str(H) + \",\" + \"C=\" + str((2^(r-1) - 1)/2 + m_1) + \",\" +\"X=\" + str(X) \n",
    "ax[4].set_title(title_str, c=\"darkred\", size=\"large\")\n",
    "ax[5].set_title(\"Deffence between Example 3.7 Left side and Right side first term\", c=\"darkred\", size=\"large\")\n",
    "\n",
    "for i in range(0,20):\n",
    "    for j in range(0,len(plot_list[i][1])):\n",
    "        ax[0].scatter(plot_list[i][1][j][0], plot_list[i][1][j][1], color=\"blue\")\n",
    "        ax[1].scatter(plot_list[i][1][j][0], plot_list[i][1][j][2], color=\"red\")\n",
    "        ax[2].scatter(plot_list[i][1][j][0], plot_list[i][1][j][3], color=\"yellow\")\n",
    "        ax[3].scatter(plot_list[i][1][j][0], plot_list[i][1][j][4], color=\"orange\") \n",
    "        ax[4].scatter(plot_list[i][1][j][0], plot_list[i][1][j][1] - h*plot_list[i][1][j][3] - h*plot_list[i][1][j][4], color=\"blue\") \n",
    "        ax[4].scatter(plot_list[i][1][j][0],  co_loglog*float(log(log(plot_list[i][1][j][0]))), color=\"orange\") \n",
    "        ax[5].scatter(plot_list[i][1][j][0], plot_list[i][1][j][1] - h*plot_list[i][1][j][3] - h*plot_list[i][1][j][4] - co_loglog*float(log(log(plot_list[i][1][j][0]))) , color=\"red\")\n",
    "        ax[6].scatter(plot_list[i][1][j][0], plot_list[i][1][j][5] , color=\"gray\")\n",
    "\n",
    "        ax[7].scatter(plot_list[i][1][j][0], plot_list[i][1][j][1] - h*plot_list[i][1][j][3] - h*plot_list[i][1][j][4], color=\"blue\") \n",
    "        ax[7].scatter(plot_list[i][1][j][0],  co_loglog*float(log(log(plot_list[i][1][j][0]))), color=\"orange\") \n",
    "        \n",
    "bbox = ax[4].get_tightbbox(fig.canvas.get_renderer())\n",
    "file_name = \"../output/\"+title_str +'.png'\n",
    "fig.savefig(file_name,dpi=fig.dpi,bbox_inches=bbox.transformed(fig.dpi_scale_trans.inverted()))\n",
    "    \n",
    "plt.show()  "
   ]
  },
  {
   "cell_type": "code",
   "execution_count": null,
   "metadata": {},
   "outputs": [],
   "source": []
  },
  {
   "cell_type": "code",
   "execution_count": null,
   "metadata": {},
   "outputs": [],
   "source": []
  }
 ],
 "metadata": {
  "celltoolbar": "Tags",
  "kernelspec": {
   "display_name": "SageMath 9.4",
   "language": "sage",
   "name": "sagemath"
  },
  "language_info": {
   "codemirror_mode": {
    "name": "ipython",
    "version": 3
   },
   "file_extension": ".py",
   "mimetype": "text/x-python",
   "name": "python",
   "nbconvert_exporter": "python",
   "pygments_lexer": "ipython3",
   "version": "3.9.5"
  }
 },
 "nbformat": 4,
 "nbformat_minor": 4
}
