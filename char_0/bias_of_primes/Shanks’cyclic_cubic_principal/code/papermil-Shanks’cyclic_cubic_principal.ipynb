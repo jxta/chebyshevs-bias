{
 "cells": [
  {
   "cell_type": "code",
   "execution_count": null,
   "metadata": {},
   "outputs": [],
   "source": [
    "#!/usr/bin/env python3\n",
    "import os\n",
    "import ethercalc\n",
    "import datetime\n",
    "from zoneinfo import ZoneInfo\n",
    "\n",
    "sheet_id = '4gwkv3igifnd'\n",
    "e = ethercalc.EtherCalc(\"https://ethercalc.net\")\n",
    "\n",
    "for i in range(1,100):\n",
    "    status = e.cells(sheet_id, \"S\"+str(i))[\"datavalue\"]\n",
    "    print(status)\n",
    "    if status == 'w':\n",
    "        N = e.cells(sheet_id, \"A\"+str(i))[\"datavalue\"]\n",
    "\n",
    "        s = e.cells(sheet_id, \"C\"+str(i))[\"datavalue\"]\n",
    "        m_1 = e.cells(sheet_id, \"D\"+str(i))[\"datavalue\"]\n",
    "        h = e.cells(sheet_id, \"E\"+str(i))[\"datavalue\"]\n",
    "        X = e.cells(sheet_id, \"F\"+str(i))[\"datavalue\"]\n",
    "        PARA = e.cells(sheet_id, \"G\"+str(i))[\"datavalue\"]\n",
    "        \n",
    "        str_N = str(N)\n",
    "\n",
    "        str_s = str(s)\n",
    "        str_m_1 = str(m_1)\n",
    "        str_h = str(h)\n",
    "        str_X = str(X)\n",
    "        str_PARA = str(PARA)\n",
    "        \n",
    "        output_file = \"../output/out_\"+str_N+\"_\"+str_X+\"_\"+str_PARA+\".ipynb\"\n",
    "        parameters = \" -p N \"+ str_N+\" -p s \" + str_s+\" -p m_1 \" + str_m_1+\" -p h \" + str_h +\" -p X \" + str_X+\" -p PARA \" + str_PARA\n",
    "        cmd = [\"papermill\", \"Shanks’cyclic_cubic_principal_papermill_template.ipynb\", output_file, parameters,  \"-k sagemath\", \"--autosave-cell-every 30\" , \"--progress-bar\"]\n",
    "        str_cmd = '  '.join(cmd)\n",
    "        print(str_cmd)\n",
    "        e.command(sheet_id, [ethercalc.set(\"S\"+str(i), \"'r\")])\n",
    "        os.system(str_cmd)\n",
    "        e.command(sheet_id, [ ethercalc.set(\"S\"+str(i), \"'d\")])\n",
    "        e.command(sheet_id, [ ethercalc.set(\"T\"+str(i), \"'\" + str(datetime.datetime.now(ZoneInfo(\"Asia/Tokyo\"))))])\n",
    "        "
   ]
  },
  {
   "cell_type": "code",
   "execution_count": null,
   "metadata": {},
   "outputs": [],
   "source": []
  }
 ],
 "metadata": {
  "kernelspec": {
   "display_name": "Python 3",
   "language": "python",
   "name": "python3"
  },
  "language_info": {
   "codemirror_mode": {
    "name": "ipython",
    "version": 3
   },
   "file_extension": ".py",
   "mimetype": "text/x-python",
   "name": "python",
   "nbconvert_exporter": "python",
   "pygments_lexer": "ipython3",
   "version": "3.9.5"
  }
 },
 "nbformat": 4,
 "nbformat_minor": 4
}
