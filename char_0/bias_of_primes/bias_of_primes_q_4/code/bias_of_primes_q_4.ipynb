{
 "cells": [
  {
   "cell_type": "code",
   "execution_count": null,
   "metadata": {},
   "outputs": [],
   "source": [
    "\"\"\"\n",
    "bias of primes - Chebyshev q = 4\n",
    "\"\"\"\n",
    "\n",
    "import os\n",
    "import numpy as np\n",
    "import struct\n",
    "import urllib.request"
   ]
  },
  {
   "cell_type": "code",
   "execution_count": null,
   "metadata": {},
   "outputs": [],
   "source": [
    "plot_list = []\n",
    "weighted_sum = 0.0\n",
    "weighted_sum_1 = 0.0\n",
    "weighted_sum_3 = 0.0"
   ]
  },
  {
   "cell_type": "code",
   "execution_count": null,
   "metadata": {},
   "outputs": [],
   "source": [
    "def list_create(x):\n",
    "\n",
    "    global plot_list, weighted_sum, weighted_sum_1, weighted_sum_3\n",
    "    \n",
    "    prime_table_name = 'prime_' + str(x)\n",
    "    prime_table_target_url = \"https://s3ds.mdx.jp/prime_tables/\" + prime_table_name\n",
    "    prime_table_obj = urllib.request.urlopen(prime_table_target_url)\n",
    "\n",
    "    \n",
    "    one_over_sqrt_prime_table_name = 'one_over_sqrt_prime_table_'+ str(x)\n",
    "    one_over_sqrt_prime_table_target_url = \"https://s3ds.mdx.jp/one_over_sqr_prime/\" + one_over_sqrt_prime_table_name    \n",
    "    one_over_sqrt_prime_table_obj = urllib.request.urlopen(one_over_sqrt_prime_table_target_url)\n",
    "\n",
    " \n",
    "    i = 0\n",
    "    while True:\n",
    "        prime_binary = prime_table_obj.read(8)\n",
    "        one_over_sqrt_prime_binary = one_over_sqrt_prime_table_obj.read(8)\n",
    "        \n",
    "        if not prime_binary:\n",
    "            break\n",
    "        \n",
    "        prime = int.from_bytes(prime_binary , byteorder='big')\n",
    "        one_over_sqrt_prime = struct.unpack('>d',  one_over_sqrt_prime_binary)[0]\n",
    "        \n",
    "        weighted_sum = weighted_sum + one_over_sqrt_prime\n",
    "        if (prime % 4 == 1):\n",
    "            weighted_sum_1 = weighted_sum_1 + one_over_sqrt_prime\n",
    "        if (prime % 4 == 3):\n",
    "            weighted_sum_3 = weighted_sum_3 + one_over_sqrt_prime\n",
    "        \n",
    "        density = len(str(prime))-3\n",
    "        if density < 0:\n",
    "            density = 0\n",
    "    \n",
    "        if (i%(10^density) == 0):\n",
    "            s_4_1 = weighted_sum - 2*weighted_sum_1\n",
    "            s_4_3 = weighted_sum - 2*weighted_sum_3\n",
    "            curve =  float(log(log(x))/2)\n",
    "            plot_list.append([prime,s_4_1,s_4_3, s_4_1-curve, s_4_3+curve ])\n",
    "        \n",
    "        i = i+1\n",
    "    \n",
    "    prime_table_obj.close()\n",
    "    one_over_sqrt_prime_table_obj.close()"
   ]
  },
  {
   "cell_type": "code",
   "execution_count": null,
   "metadata": {
    "scrolled": true
   },
   "outputs": [],
   "source": [
    "for k in range(0, 10^1):\n",
    "    list_create(k)"
   ]
  },
  {
   "cell_type": "code",
   "execution_count": null,
   "metadata": {
    "scrolled": false
   },
   "outputs": [],
   "source": [
    "\"\"\"\n",
    "bias of primes - Chebyshev q = 4\n",
    "\"\"\"\n",
    "\n",
    "import numpy as np\n",
    "import matplotlib.pyplot as plt\n",
    "import datetime\n",
    "\n",
    "fig, ax = plt.subplots(4, 1, tight_layout=True, figsize=(16, 16*4))\n",
    "\n",
    "plt.xlabel('X',fontsize=18)\n",
    "plt.ylabel('Y',fontsize=18)\n",
    "plt.title('weighted_sum')\n",
    "\n",
    "for k in range(4):\n",
    "    ax[k].set_xscale('log')\n",
    "    ax[k].grid(which=\"both\")",
    "    handles, labels = ax[k].get_legend_handles_labels()\n",
    "    ax[k].legend(handles, labels)\n",
    "\n",
    "\n",
    "for j in range(0,len(plot_list)):\n",
    "    ax[0].scatter(plot_list[j][0], plot_list[j][1], color=\"blue\")\n",
    "    ax[0].scatter(plot_list[j][0], log(log(plot_list[j][0]))/2.0, color=\"orange\")\n",
    "    \n",
    "    ax[1].scatter(plot_list[j][0], plot_list[j][2], color=\"blue\")\n",
    "    ax[1].scatter(plot_list[j][0], -log(log(plot_list[j][0]))/2.0, color=\"orange\")\n",
    "    \n",
    "    ax[2].scatter(plot_list[j][0], plot_list[j][1] - log(log(plot_list[j][0]))/2.0, color=\"red\")\n",
    "    ax[3].scatter(plot_list[j][0], plot_list[j][2] + log(log(plot_list[j][0]))/2.0, color=\"red\")\n",
    "\n",
    "\n",
    "plt.show()  "
   ]
  },
  {
   "cell_type": "code",
   "execution_count": null,
   "metadata": {},
   "outputs": [],
   "source": []
  }
 ],
 "metadata": {
  "kernelspec": {
   "display_name": "SageMath 9.4",
   "language": "sage",
   "name": "sagemath"
  },
  "language_info": {
   "codemirror_mode": {
    "name": "ipython",
    "version": 3
   },
   "file_extension": ".py",
   "mimetype": "text/x-python",
   "name": "python",
   "nbconvert_exporter": "python",
   "pygments_lexer": "ipython3",
   "version": "3.9.5"
  }
 },
 "nbformat": 4,
 "nbformat_minor": 4
}
